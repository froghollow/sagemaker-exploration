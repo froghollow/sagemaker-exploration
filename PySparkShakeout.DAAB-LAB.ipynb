{
 "cells": [
  {
   "cell_type": "markdown",
   "id": "5865fb0c",
   "metadata": {},
   "source": [
    "# PySpark & PyDeequ Shakeout\n"
   ]
  },
  {
   "cell_type": "code",
   "execution_count": 1,
   "id": "3c02557d",
   "metadata": {},
   "outputs": [
    {
     "name": "stdout",
     "output_type": "stream",
     "text": [
      "Looking in indexes: https://pypi.org/simple, https://pip.repos.neuron.amazonaws.com\n",
      "Requirement already satisfied: pydeequ in /home/ec2-user/anaconda3/envs/python3/lib/python3.8/site-packages (1.0.1)\n",
      "Requirement already satisfied: pandas>=0.23.0 in /home/ec2-user/anaconda3/envs/python3/lib/python3.8/site-packages (from pydeequ) (1.3.4)\n",
      "Requirement already satisfied: numpy>=1.14.1 in /home/ec2-user/anaconda3/envs/python3/lib/python3.8/site-packages (from pydeequ) (1.20.3)\n",
      "Requirement already satisfied: python-dateutil>=2.7.3 in /home/ec2-user/anaconda3/envs/python3/lib/python3.8/site-packages (from pandas>=0.23.0->pydeequ) (2.8.2)\n",
      "Requirement already satisfied: pytz>=2017.3 in /home/ec2-user/anaconda3/envs/python3/lib/python3.8/site-packages (from pandas>=0.23.0->pydeequ) (2021.3)\n",
      "Requirement already satisfied: six>=1.5 in /home/ec2-user/anaconda3/envs/python3/lib/python3.8/site-packages (from python-dateutil>=2.7.3->pandas>=0.23.0->pydeequ) (1.16.0)\n"
     ]
    },
    {
     "name": "stderr",
     "output_type": "stream",
     "text": [
      "WARNING: You are using pip version 22.0.4; however, version 22.3.1 is available.\n",
      "You should consider upgrading via the '/home/ec2-user/anaconda3/envs/python3/bin/python -m pip install --upgrade pip' command.\n"
     ]
    }
   ],
   "source": [
    "%%bash\n",
    "pip install pydeequ"
   ]
  },
  {
   "cell_type": "code",
   "execution_count": 2,
   "id": "f2369018",
   "metadata": {},
   "outputs": [
    {
     "name": "stderr",
     "output_type": "stream",
     "text": [
      "Please set env variable SPARK_VERSION\n"
     ]
    },
    {
     "name": "stdout",
     "output_type": "stream",
     "text": [
      ":: loading settings :: url = jar:file:/home/ec2-user/anaconda3/envs/python3/lib/python3.8/site-packages/pyspark/jars/ivy-2.5.0.jar!/org/apache/ivy/core/settings/ivysettings.xml\n"
     ]
    },
    {
     "name": "stderr",
     "output_type": "stream",
     "text": [
      "Ivy Default Cache set to: /home/ec2-user/.ivy2/cache\n",
      "The jars for the packages stored in: /home/ec2-user/.ivy2/jars\n",
      "com.amazon.deequ#deequ added as a dependency\n",
      ":: resolving dependencies :: org.apache.spark#spark-submit-parent-6d03278e-8b7d-4189-af76-866647cd6739;1.0\n",
      "\tconfs: [default]\n",
      "\tfound com.amazon.deequ#deequ;1.2.2-spark-3.0 in central\n",
      "\tfound org.scalanlp#breeze_2.12;0.13.2 in central\n",
      "\tfound org.scalanlp#breeze-macros_2.12;0.13.2 in central\n",
      "\tfound org.scala-lang#scala-reflect;2.12.1 in central\n",
      "\tfound com.github.fommil.netlib#core;1.1.2 in central\n",
      "\tfound net.sf.opencsv#opencsv;2.3 in central\n",
      "\tfound com.github.rwl#jtransforms;2.4.0 in central\n",
      "\tfound junit#junit;4.8.2 in central\n",
      "\tfound org.apache.commons#commons-math3;3.2 in central\n",
      "\tfound org.spire-math#spire_2.12;0.13.0 in central\n",
      "\tfound org.spire-math#spire-macros_2.12;0.13.0 in central\n",
      "\tfound org.typelevel#machinist_2.12;0.6.1 in central\n",
      "\tfound com.chuusai#shapeless_2.12;2.3.2 in central\n",
      "\tfound org.typelevel#macro-compat_2.12;1.1.1 in central\n",
      "\tfound org.slf4j#slf4j-api;1.7.5 in central\n",
      ":: resolution report :: resolve 707ms :: artifacts dl 38ms\n",
      "\t:: modules in use:\n",
      "\tcom.amazon.deequ#deequ;1.2.2-spark-3.0 from central in [default]\n",
      "\tcom.chuusai#shapeless_2.12;2.3.2 from central in [default]\n",
      "\tcom.github.fommil.netlib#core;1.1.2 from central in [default]\n",
      "\tcom.github.rwl#jtransforms;2.4.0 from central in [default]\n",
      "\tjunit#junit;4.8.2 from central in [default]\n",
      "\tnet.sf.opencsv#opencsv;2.3 from central in [default]\n",
      "\torg.apache.commons#commons-math3;3.2 from central in [default]\n",
      "\torg.scala-lang#scala-reflect;2.12.1 from central in [default]\n",
      "\torg.scalanlp#breeze-macros_2.12;0.13.2 from central in [default]\n",
      "\torg.scalanlp#breeze_2.12;0.13.2 from central in [default]\n",
      "\torg.slf4j#slf4j-api;1.7.5 from central in [default]\n",
      "\torg.spire-math#spire-macros_2.12;0.13.0 from central in [default]\n",
      "\torg.spire-math#spire_2.12;0.13.0 from central in [default]\n",
      "\torg.typelevel#machinist_2.12;0.6.1 from central in [default]\n",
      "\torg.typelevel#macro-compat_2.12;1.1.1 from central in [default]\n",
      "\t:: evicted modules:\n",
      "\torg.scala-lang#scala-reflect;2.12.0 by [org.scala-lang#scala-reflect;2.12.1] in [default]\n",
      "\t---------------------------------------------------------------------\n",
      "\t|                  |            modules            ||   artifacts   |\n",
      "\t|       conf       | number| search|dwnlded|evicted|| number|dwnlded|\n",
      "\t---------------------------------------------------------------------\n",
      "\t|      default     |   16  |   0   |   0   |   1   ||   15  |   0   |\n",
      "\t---------------------------------------------------------------------\n",
      ":: retrieving :: org.apache.spark#spark-submit-parent-6d03278e-8b7d-4189-af76-866647cd6739\n",
      "\tconfs: [default]\n",
      "\t0 artifacts copied, 15 already retrieved (0kB/26ms)\n"
     ]
    },
    {
     "name": "stdout",
     "output_type": "stream",
     "text": [
      "22/11/23 20:04:47 WARN NativeCodeLoader: Unable to load native-hadoop library for your platform... using builtin-java classes where applicable\n"
     ]
    },
    {
     "name": "stderr",
     "output_type": "stream",
     "text": [
      "Setting default log level to \"WARN\".\n",
      "To adjust logging level use sc.setLogLevel(newLevel). For SparkR, use setLogLevel(newLevel).\n"
     ]
    }
   ],
   "source": [
    "from pyspark.sql import SparkSession, Row, DataFrame\n",
    "\n",
    "import sagemaker_pyspark\n",
    "import pydeequ\n",
    "\n",
    "classpath = \":\".join(sagemaker_pyspark.classpath_jars())\n",
    "\n",
    "spark = (SparkSession\n",
    "    .builder\n",
    "    .config(\"spark.driver.extraClassPath\", classpath)\n",
    "    .config(\"spark.jars.packages\", pydeequ.deequ_maven_coord)\n",
    "    .config(\"spark.jars.excludes\", pydeequ.f2j_maven_coord)\n",
    "    .getOrCreate())"
   ]
  },
  {
   "cell_type": "code",
   "execution_count": 3,
   "id": "f26e30d4",
   "metadata": {},
   "outputs": [
    {
     "name": "stdout",
     "output_type": "stream",
     "text": [
      "/home/ec2-user/anaconda3/envs/JupyterSystemEnv\n"
     ]
    },
    {
     "name": "stderr",
     "output_type": "stream",
     "text": [
      "openjdk version \"11.0.1\" 2018-10-16 LTS\n",
      "OpenJDK Runtime Environment Zulu11.2+3 (build 11.0.1+13-LTS)\n",
      "OpenJDK 64-Bit Server VM Zulu11.2+3 (build 11.0.1+13-LTS, mixed mode)\n"
     ]
    }
   ],
   "source": [
    "%%bash\n",
    "\n",
    "echo $JAVA_HOME\n",
    "$JAVA_HOME/bin/java -version"
   ]
  },
  {
   "cell_type": "code",
   "execution_count": 4,
   "id": "3c4cba8d",
   "metadata": {},
   "outputs": [
    {
     "name": "stderr",
     "output_type": "stream",
     "text": [
      "                                                                                \r"
     ]
    },
    {
     "name": "stdout",
     "output_type": "stream",
     "text": [
      "root\n",
      " |-- Record Date: timestamp (nullable = true)\n",
      " |-- Creditor Agency Name: string (nullable = true)\n",
      " |-- Agency ID: integer (nullable = true)\n",
      " |-- Agency Site Type Code: string (nullable = true)\n",
      " |-- Agency Site ID: string (nullable = true)\n",
      " |-- Agency Site Name: string (nullable = true)\n",
      " |-- Source Agency Alpha: string (nullable = true)\n",
      " |-- Source Agency Numeric: string (nullable = true)\n",
      " |-- Source Agency Site ID: string (nullable = true)\n",
      " |-- Agency Name: string (nullable = true)\n",
      " |-- Payment Agency ID: string (nullable = true)\n",
      " |-- Agency Type Code: string (nullable = true)\n",
      " |-- Payment Source Description: string (nullable = true)\n",
      " |-- Payment Source Code: string (nullable = true)\n",
      " |-- Payment Category Description: string (nullable = true)\n",
      " |-- Payment Type Description: string (nullable = true)\n",
      " |-- Payment Type Code: string (nullable = true)\n",
      " |-- Payment Type ID: integer (nullable = true)\n",
      " |-- Debt Type Code: string (nullable = true)\n",
      " |-- Debt Type Description: string (nullable = true)\n",
      " |-- Taxable Indicator: string (nullable = true)\n",
      " |-- Total Gross Amount: double (nullable = true)\n",
      " |-- Total Net Amount: double (nullable = true)\n",
      " |-- Total Gross Count: integer (nullable = true)\n",
      " |-- Total Net Count: integer (nullable = true)\n",
      " |-- Fiscal Year: integer (nullable = true)\n",
      " |-- Fiscal Quarter Number: integer (nullable = true)\n",
      " |-- Calendar Year: integer (nullable = true)\n",
      " |-- Calendar Quarter Number: integer (nullable = true)\n",
      " |-- Calendar Month Number: integer (nullable = true)\n",
      " |-- Calendar Day Number: integer (nullable = true)\n",
      "\n",
      "22/11/23 20:05:00 WARN package: Truncated the string representation of a plan since it was too large. This behavior can be adjusted by setting 'spark.sql.debug.maxToStringFields'.\n",
      "+-------------------+--------------------+---------+---------------------+--------------+--------------------+-------------------+---------------------+---------------------+--------------------+-----------------+----------------+--------------------------+-------------------+----------------------------+------------------------+-----------------+---------------+--------------+---------------------+-----------------+------------------+----------------+-----------------+---------------+-----------+---------------------+-------------+-----------------------+---------------------+-------------------+\n",
      "|        Record Date|Creditor Agency Name|Agency ID|Agency Site Type Code|Agency Site ID|    Agency Site Name|Source Agency Alpha|Source Agency Numeric|Source Agency Site ID|         Agency Name|Payment Agency ID|Agency Type Code|Payment Source Description|Payment Source Code|Payment Category Description|Payment Type Description|Payment Type Code|Payment Type ID|Debt Type Code|Debt Type Description|Taxable Indicator|Total Gross Amount|Total Net Amount|Total Gross Count|Total Net Count|Fiscal Year|Fiscal Quarter Number|Calendar Year|Calendar Quarter Number|Calendar Month Number|Calendar Day Number|\n",
      "+-------------------+--------------------+---------+---------------------+--------------+--------------------+-------------------+---------------------+---------------------+--------------------+-----------------+----------------+--------------------------+-------------------+----------------------------+------------------------+-----------------+---------------+--------------+---------------------+-----------------+------------------+----------------+-----------------+---------------+-----------+---------------------+-------------+-----------------------+---------------------+-------------------+\n",
      "|2022-10-01 00:00:00|Bureau of the Fis...|       83|              Federal|          33MK|33-MK-BUREAU OF F...|                 33|                   51|                   MK|Internal Revenue ...|              132|         Federal|                Tax Refund|                TAX|                         TDO|          Tax Refund EFT|               IE|             12|            FN|      FEDERAL NON-TAX|                N|             986.0|           986.0|                1|              1|       2023|                    1|         2022|                      4|                   10|                  1|\n",
      "|2022-10-01 00:00:00|Bureau of the Fis...|       83|              Federal|          33M7|33-M7-FISCAL SERV...|                 33|                   1C|                   M7|Department of Hom...|               21|           State|            Vendor payment|                VEN|                         TDO|              Vendor EFT|               VE|             13|            FN|      FEDERAL NON-TAX|                N|             289.6|           289.6|                5|              5|       2023|                    1|         2022|                      4|                   10|                  1|\n",
      "|2022-10-01 00:00:00|Bureau of the Fis...|       83|              Federal|          33M7|33-M7-FISCAL SERV...|                 33|                   18|                   M7|Office of Personn...|               17|         Federal|      Office of Personn...|                OPM|                         TDO|                 OPM EFT|               OE|              8|            FN|      FEDERAL NON-TAX|                N|          91000.38|        90170.87|             1351|           1340|       2023|                    1|         2022|                      4|                   10|                  1|\n",
      "|2022-10-01 00:00:00|Bureau of the Fis...|       83|              Federal|          33M7|33-M7-FISCAL SERV...|                 33|                   18|                   M7|Office of Personn...|               17|         Federal|      Office of Personn...|                OPM|                         TDO|               OPM Check|               OC|              8|            FN|      FEDERAL NON-TAX|                N|             992.8|          882.83|               13|             11|       2023|                    1|         2022|                      4|                   10|                  1|\n",
      "|2022-10-01 00:00:00|Bureau of the Fis...|       83|              Federal|          33M7|33-M7-FISCAL SERV...|                 33|                   03|                   M7|Dept. of Health &...|                3|         Federal|            Vendor payment|                VEN|                         TDO|              Vendor EFT|               VE|             13|            FN|      FEDERAL NON-TAX|                N|           1352.94|         1352.94|               19|             19|       2023|                    1|         2022|                      4|                   10|                  1|\n",
      "+-------------------+--------------------+---------+---------------------+--------------+--------------------+-------------------+---------------------+---------------------+--------------------+-----------------+----------------+--------------------------+-------------------+----------------------------+------------------------+-----------------+---------------+--------------+---------------------+-----------------+------------------+----------------+-----------------+---------------+-----------+---------------------+-------------+-----------------------+---------------------+-------------------+\n",
      "only showing top 5 rows\n",
      "\n"
     ]
    },
    {
     "name": "stderr",
     "output_type": "stream",
     "text": [
      "[Stage 3:>                                                          (0 + 1) / 1]\r"
     ]
    },
    {
     "name": "stdout",
     "output_type": "stream",
     "text": [
      "File output: data/TOP_FedClct_20221001_20221001.parquet\n"
     ]
    },
    {
     "name": "stderr",
     "output_type": "stream",
     "text": [
      "                                                                                \r"
     ]
    }
   ],
   "source": [
    "# Read a CSV file from local instance directory into a Spark dataframe\n",
    "file_input = 'data/TOP_FedClct_20221001_20221001.csv'\n",
    "\n",
    "df = spark.read \\\n",
    "    .format(\"com.databricks.spark.csv\") \\\n",
    "    .option(\"header\", \"true\") \\\n",
    "    .option(\"inferSchema\", \"true\") \\\n",
    "    .option(\"delimiter\", \",\") \\\n",
    "    .load(file_input) \n",
    "\n",
    "df.printSchema()\n",
    "df.show(5)\n",
    "\n",
    "# Write a copy of the Spark dataframe to a Parquet output file\n",
    "file_output = file_input.replace('.csv', '.parquet')\n",
    "df.write.mode('overwrite').parquet(file_output)\n",
    "print(f'File output: {file_output}')\n"
   ]
  },
  {
   "cell_type": "code",
   "execution_count": 5,
   "id": "679f94fd",
   "metadata": {},
   "outputs": [
    {
     "name": "stdout",
     "output_type": "stream",
     "text": [
      "root\n",
      " |-- Record Date: timestamp (nullable = true)\n",
      " |-- Creditor Agency Name: string (nullable = true)\n",
      " |-- Agency ID: integer (nullable = true)\n",
      " |-- Agency Site Type Code: string (nullable = true)\n",
      " |-- Agency Site ID: string (nullable = true)\n",
      " |-- Agency Site Name: string (nullable = true)\n",
      " |-- Source Agency Alpha: string (nullable = true)\n",
      " |-- Source Agency Numeric: string (nullable = true)\n",
      " |-- Source Agency Site ID: string (nullable = true)\n",
      " |-- Agency Name: string (nullable = true)\n",
      " |-- Payment Agency ID: string (nullable = true)\n",
      " |-- Agency Type Code: string (nullable = true)\n",
      " |-- Payment Source Description: string (nullable = true)\n",
      " |-- Payment Source Code: string (nullable = true)\n",
      " |-- Payment Category Description: string (nullable = true)\n",
      " |-- Payment Type Description: string (nullable = true)\n",
      " |-- Payment Type Code: string (nullable = true)\n",
      " |-- Payment Type ID: integer (nullable = true)\n",
      " |-- Debt Type Code: string (nullable = true)\n",
      " |-- Debt Type Description: string (nullable = true)\n",
      " |-- Taxable Indicator: string (nullable = true)\n",
      " |-- Total Gross Amount: double (nullable = true)\n",
      " |-- Total Net Amount: double (nullable = true)\n",
      " |-- Total Gross Count: integer (nullable = true)\n",
      " |-- Total Net Count: integer (nullable = true)\n",
      " |-- Fiscal Year: integer (nullable = true)\n",
      " |-- Fiscal Quarter Number: integer (nullable = true)\n",
      " |-- Calendar Year: integer (nullable = true)\n",
      " |-- Calendar Quarter Number: integer (nullable = true)\n",
      " |-- Calendar Month Number: integer (nullable = true)\n",
      " |-- Calendar Day Number: integer (nullable = true)\n",
      "\n",
      "+-------------------+--------------------+---------+---------------------+--------------+--------------------+-------------------+---------------------+---------------------+--------------------+-----------------+----------------+--------------------------+-------------------+----------------------------+------------------------+-----------------+---------------+--------------+---------------------+-----------------+------------------+----------------+-----------------+---------------+-----------+---------------------+-------------+-----------------------+---------------------+-------------------+\n",
      "|        Record Date|Creditor Agency Name|Agency ID|Agency Site Type Code|Agency Site ID|    Agency Site Name|Source Agency Alpha|Source Agency Numeric|Source Agency Site ID|         Agency Name|Payment Agency ID|Agency Type Code|Payment Source Description|Payment Source Code|Payment Category Description|Payment Type Description|Payment Type Code|Payment Type ID|Debt Type Code|Debt Type Description|Taxable Indicator|Total Gross Amount|Total Net Amount|Total Gross Count|Total Net Count|Fiscal Year|Fiscal Quarter Number|Calendar Year|Calendar Quarter Number|Calendar Month Number|Calendar Day Number|\n",
      "+-------------------+--------------------+---------+---------------------+--------------+--------------------+-------------------+---------------------+---------------------+--------------------+-----------------+----------------+--------------------------+-------------------+----------------------------+------------------------+-----------------+---------------+--------------+---------------------+-----------------+------------------+----------------+-----------------+---------------+-----------+---------------------+-------------+-----------------------+---------------------+-------------------+\n",
      "|2022-10-01 00:00:00|Bureau of the Fis...|       83|              Federal|          33MK|33-MK-BUREAU OF F...|                 33|                   51|                   MK|Internal Revenue ...|              132|         Federal|                Tax Refund|                TAX|                         TDO|          Tax Refund EFT|               IE|             12|            FN|      FEDERAL NON-TAX|                N|             986.0|           986.0|                1|              1|       2023|                    1|         2022|                      4|                   10|                  1|\n",
      "|2022-10-01 00:00:00|Bureau of the Fis...|       83|              Federal|          33M7|33-M7-FISCAL SERV...|                 33|                   1C|                   M7|Department of Hom...|               21|           State|            Vendor payment|                VEN|                         TDO|              Vendor EFT|               VE|             13|            FN|      FEDERAL NON-TAX|                N|             289.6|           289.6|                5|              5|       2023|                    1|         2022|                      4|                   10|                  1|\n",
      "|2022-10-01 00:00:00|Bureau of the Fis...|       83|              Federal|          33M7|33-M7-FISCAL SERV...|                 33|                   18|                   M7|Office of Personn...|               17|         Federal|      Office of Personn...|                OPM|                         TDO|                 OPM EFT|               OE|              8|            FN|      FEDERAL NON-TAX|                N|          91000.38|        90170.87|             1351|           1340|       2023|                    1|         2022|                      4|                   10|                  1|\n",
      "|2022-10-01 00:00:00|Bureau of the Fis...|       83|              Federal|          33M7|33-M7-FISCAL SERV...|                 33|                   18|                   M7|Office of Personn...|               17|         Federal|      Office of Personn...|                OPM|                         TDO|               OPM Check|               OC|              8|            FN|      FEDERAL NON-TAX|                N|             992.8|          882.83|               13|             11|       2023|                    1|         2022|                      4|                   10|                  1|\n",
      "|2022-10-01 00:00:00|Bureau of the Fis...|       83|              Federal|          33M7|33-M7-FISCAL SERV...|                 33|                   03|                   M7|Dept. of Health &...|                3|         Federal|            Vendor payment|                VEN|                         TDO|              Vendor EFT|               VE|             13|            FN|      FEDERAL NON-TAX|                N|           1352.94|         1352.94|               19|             19|       2023|                    1|         2022|                      4|                   10|                  1|\n",
      "+-------------------+--------------------+---------+---------------------+--------------+--------------------+-------------------+---------------------+---------------------+--------------------+-----------------+----------------+--------------------------+-------------------+----------------------------+------------------------+-----------------+---------------+--------------+---------------------+-----------------+------------------+----------------+-----------------+---------------+-----------+---------------------+-------------+-----------------------+---------------------+-------------------+\n",
      "only showing top 5 rows\n",
      "\n"
     ]
    }
   ],
   "source": [
    "# Read a Parquet file from local instance directory\n",
    "file_input = 'data/TOP_FedClct_20221001_20221001.parquet'\n",
    "\n",
    "df = spark.read.parquet(file_input) \n",
    "df.printSchema()\n",
    "df.show(5)\n"
   ]
  },
  {
   "cell_type": "code",
   "execution_count": 6,
   "id": "3d9b365b",
   "metadata": {},
   "outputs": [
    {
     "name": "stdout",
     "output_type": "stream",
     "text": [
      "upload: data/TOP_FedClct_20221001_20221001.csv to s3://daab-dtl-lab-datawork/rmyers07/data/TOP_FedClct_20221001_20221001.csv\n",
      "2022-11-23 20:05:07     920049 TOP_FedClct_20221001_20221001.csv\n"
     ]
    }
   ],
   "source": [
    "%%bash\n",
    "# copy local CSV file to S3 using AWS CLI\n",
    "# aws s3 cp data/TOP_FedClct_20221001_20221001.csv s3://wc2h-dtl-dev-datawork/rmyers07/data/TOP_FedClct_20221001_20221001.csv\n",
    "aws s3 cp data/TOP_FedClct_20221001_20221001.csv s3://daab-dtl-lab-datawork/rmyers07/data/TOP_FedClct_20221001_20221001.csv\n",
    "    \n",
    "#aws s3 ls s3://wc2h-dtl-dev-datawork/rmyers07/data/TOP_FedClct_20221001_20221001.csv    \n",
    "aws s3 ls s3://daab-dtl-lab-datawork/rmyers07/data/TOP_FedClct_20221001_20221001.csv    "
   ]
  },
  {
   "cell_type": "code",
   "execution_count": 7,
   "id": "8d436cea",
   "metadata": {},
   "outputs": [
    {
     "name": "stdout",
     "output_type": "stream",
     "text": [
      "Record Date,Creditor Agency Name,Agency ID,Agency Site Type Code,Agency Site ID,Agency Site Name,Source Agency Alpha,Source Agency Numeric,Source Agency Site ID,Agency Name,Payment Agency ID,Agency Type Code,Payment Source Description,Payment Source Code,Payment Category Description,Payment Type Description,Payment Type Code,Payment Type ID,Debt Type Code,Debt Type Description,Taxable Indicator,Total Gross Amount,Total Net Amount,Total Gross Count,Total Net Count,Fiscal Year,Fiscal Quarter Number,Calendar Year,Calendar Quarter Number,Calendar Month Number,Calendar Day Number\n",
      "2022-10-01,Bureau of the Fiscal Service,83,Federal,33MK,33-MK-BUREAU OF FISCAL SERVICE,33,51,MK,Internal Revenue Service,132,Federal,Tax Refund,TAX,TDO,Tax Refund EFT,IE,12,FN,FEDERAL NON-TAX,N,986.00,986.00,1,1,2023,1,2022,4,10,01\n",
      "2022-10-01,Bureau of the Fiscal Service,83,Federal,33M7,33-M7-FISCAL SERVICE - DMSC,33,1C,M7,Department of Homeland Security,21,State,Vendor payment,VEN,TDO,Vendor EFT,VE,13,FN,FEDERAL NON-TAX,N,289.60,289.60,5,5,2023,1,2022,4,10,01\n",
      "2022-10-01,Bureau of the Fiscal Service,83,Federal,33M7,33-M7-FISCAL SERVICE - DMSC,33,18,M7,Office of Personnel Management,17,Federal,Office of Personnel Management,OPM,TDO,OPM EFT,OE,8,FN,FEDERAL NON-TAX,N,91000.38,90170.87,1351,1340,2023,1,2022,4,10,01\n",
      "2022-10-01,Bureau of the Fiscal Service,83,Federal,33M7,33-M7-FISCAL SERVICE - DMSC,33,18,M7,Office of Personnel Management,17,Federal,Office of Personnel Management,OPM,TDO,OPM Check,OC,8,FN,FEDERAL NON-TAX,N,992.80,882.83,13,11,2023,1,2022,4,10,01\n",
      "2022-10-01,Bureau of the Fiscal Service,83,Federal,33M7,33-M7-FISCAL SERVICE - DMSC,33,03,M7,Dept. of Health & Human Services,3,Federal,Vendor payment,VEN,TDO,Vendor EFT,VE,13,FN,FEDERAL NON-TAX,N,1352.94,1352.94,19,19,2023,1,2022,4,10,01\n",
      "2022-10-01,Bureau of the Fiscal Service,83,Federal,33M2,33-M2-DMSOC - EAST,33,27,M2,Social Security Administration,51,Federal,Social Security Administration,SSA,TDO,SSA EFT,SE,11,FN,FEDERAL NON-TAX,N,197.42,197.42,2,2,2023,1,2022,4,10,01\n"
     ]
    }
   ],
   "source": [
    "# Read the CSV file from S3 using Python AWS SDK\n",
    "import boto3\n",
    "s3 = boto3.client('s3')\n",
    "\n",
    "#s3_bucket = 'wc2h-dtl-dev-datawork'\n",
    "s3_bucket = 'daab-dtl-lab-datawork'\n",
    "s3_key = 'rmyers07/data/TOP_FedClct_20221001_20221001.csv'\n",
    "\n",
    "s3_obj = s3.get_object(Bucket=s3_bucket, Key=s3_key )\n",
    "data = s3_obj['Body'].read().decode('utf-8')\n",
    "\n",
    "for n,line in enumerate(data.split('\\n')):\n",
    "    print(line)\n",
    "    if n > 5:\n",
    "        break\n"
   ]
  },
  {
   "cell_type": "code",
   "execution_count": 8,
   "id": "8cd3f76b",
   "metadata": {},
   "outputs": [
    {
     "name": "stdout",
     "output_type": "stream",
     "text": [
      "22/11/23 20:05:07 WARN MetricsConfig: Cannot locate configuration: tried hadoop-metrics2-s3a-file-system.properties,hadoop-metrics2.properties\n",
      "root\n",
      " |-- Record Date: timestamp (nullable = true)\n",
      " |-- Creditor Agency Name: string (nullable = true)\n",
      " |-- Agency ID: integer (nullable = true)\n",
      " |-- Agency Site Type Code: string (nullable = true)\n",
      " |-- Agency Site ID: string (nullable = true)\n",
      " |-- Agency Site Name: string (nullable = true)\n",
      " |-- Source Agency Alpha: string (nullable = true)\n",
      " |-- Source Agency Numeric: string (nullable = true)\n",
      " |-- Source Agency Site ID: string (nullable = true)\n",
      " |-- Agency Name: string (nullable = true)\n",
      " |-- Payment Agency ID: string (nullable = true)\n",
      " |-- Agency Type Code: string (nullable = true)\n",
      " |-- Payment Source Description: string (nullable = true)\n",
      " |-- Payment Source Code: string (nullable = true)\n",
      " |-- Payment Category Description: string (nullable = true)\n",
      " |-- Payment Type Description: string (nullable = true)\n",
      " |-- Payment Type Code: string (nullable = true)\n",
      " |-- Payment Type ID: integer (nullable = true)\n",
      " |-- Debt Type Code: string (nullable = true)\n",
      " |-- Debt Type Description: string (nullable = true)\n",
      " |-- Taxable Indicator: string (nullable = true)\n",
      " |-- Total Gross Amount: double (nullable = true)\n",
      " |-- Total Net Amount: double (nullable = true)\n",
      " |-- Total Gross Count: integer (nullable = true)\n",
      " |-- Total Net Count: integer (nullable = true)\n",
      " |-- Fiscal Year: integer (nullable = true)\n",
      " |-- Fiscal Quarter Number: integer (nullable = true)\n",
      " |-- Calendar Year: integer (nullable = true)\n",
      " |-- Calendar Quarter Number: integer (nullable = true)\n",
      " |-- Calendar Month Number: integer (nullable = true)\n",
      " |-- Calendar Day Number: integer (nullable = true)\n",
      "\n",
      "+-------------------+--------------------+---------+---------------------+--------------+--------------------+-------------------+---------------------+---------------------+--------------------+-----------------+----------------+--------------------------+-------------------+----------------------------+------------------------+-----------------+---------------+--------------+---------------------+-----------------+------------------+----------------+-----------------+---------------+-----------+---------------------+-------------+-----------------------+---------------------+-------------------+\n",
      "|        Record Date|Creditor Agency Name|Agency ID|Agency Site Type Code|Agency Site ID|    Agency Site Name|Source Agency Alpha|Source Agency Numeric|Source Agency Site ID|         Agency Name|Payment Agency ID|Agency Type Code|Payment Source Description|Payment Source Code|Payment Category Description|Payment Type Description|Payment Type Code|Payment Type ID|Debt Type Code|Debt Type Description|Taxable Indicator|Total Gross Amount|Total Net Amount|Total Gross Count|Total Net Count|Fiscal Year|Fiscal Quarter Number|Calendar Year|Calendar Quarter Number|Calendar Month Number|Calendar Day Number|\n",
      "+-------------------+--------------------+---------+---------------------+--------------+--------------------+-------------------+---------------------+---------------------+--------------------+-----------------+----------------+--------------------------+-------------------+----------------------------+------------------------+-----------------+---------------+--------------+---------------------+-----------------+------------------+----------------+-----------------+---------------+-----------+---------------------+-------------+-----------------------+---------------------+-------------------+\n",
      "|2022-10-01 00:00:00|Bureau of the Fis...|       83|              Federal|          33MK|33-MK-BUREAU OF F...|                 33|                   51|                   MK|Internal Revenue ...|              132|         Federal|                Tax Refund|                TAX|                         TDO|          Tax Refund EFT|               IE|             12|            FN|      FEDERAL NON-TAX|                N|             986.0|           986.0|                1|              1|       2023|                    1|         2022|                      4|                   10|                  1|\n",
      "|2022-10-01 00:00:00|Bureau of the Fis...|       83|              Federal|          33M7|33-M7-FISCAL SERV...|                 33|                   1C|                   M7|Department of Hom...|               21|           State|            Vendor payment|                VEN|                         TDO|              Vendor EFT|               VE|             13|            FN|      FEDERAL NON-TAX|                N|             289.6|           289.6|                5|              5|       2023|                    1|         2022|                      4|                   10|                  1|\n",
      "|2022-10-01 00:00:00|Bureau of the Fis...|       83|              Federal|          33M7|33-M7-FISCAL SERV...|                 33|                   18|                   M7|Office of Personn...|               17|         Federal|      Office of Personn...|                OPM|                         TDO|                 OPM EFT|               OE|              8|            FN|      FEDERAL NON-TAX|                N|          91000.38|        90170.87|             1351|           1340|       2023|                    1|         2022|                      4|                   10|                  1|\n",
      "|2022-10-01 00:00:00|Bureau of the Fis...|       83|              Federal|          33M7|33-M7-FISCAL SERV...|                 33|                   18|                   M7|Office of Personn...|               17|         Federal|      Office of Personn...|                OPM|                         TDO|               OPM Check|               OC|              8|            FN|      FEDERAL NON-TAX|                N|             992.8|          882.83|               13|             11|       2023|                    1|         2022|                      4|                   10|                  1|\n",
      "|2022-10-01 00:00:00|Bureau of the Fis...|       83|              Federal|          33M7|33-M7-FISCAL SERV...|                 33|                   03|                   M7|Dept. of Health &...|                3|         Federal|            Vendor payment|                VEN|                         TDO|              Vendor EFT|               VE|             13|            FN|      FEDERAL NON-TAX|                N|           1352.94|         1352.94|               19|             19|       2023|                    1|         2022|                      4|                   10|                  1|\n",
      "+-------------------+--------------------+---------+---------------------+--------------+--------------------+-------------------+---------------------+---------------------+--------------------+-----------------+----------------+--------------------------+-------------------+----------------------------+------------------------+-----------------+---------------+--------------+---------------------+-----------------+------------------+----------------+-----------------+---------------+-----------+---------------------+-------------+-----------------------+---------------------+-------------------+\n",
      "only showing top 5 rows\n",
      "\n"
     ]
    }
   ],
   "source": [
    "# Read the CSV file from S3 into a Spark data frame\n",
    "#s3_url_input = 's3a://wc2h-dtl-dev-datawork/rmyers07/data/TOP_FedClct_20221001_20221001.csv'\n",
    "s3_url_input = 's3a://daab-dtl-lab-datawork/rmyers07/data/TOP_FedClct_20221001_20221001.csv'\n",
    "\n",
    "df = spark.read \\\n",
    "    .format(\"com.databricks.spark.csv\") \\\n",
    "    .option(\"header\", \"true\") \\\n",
    "    .option(\"inferSchema\", \"true\") \\\n",
    "    .option(\"delimiter\", \",\") \\\n",
    "    .load(s3_url_input) \n",
    "\n",
    "df.printSchema()\n",
    "df.show(5)\n"
   ]
  },
  {
   "cell_type": "code",
   "execution_count": 9,
   "id": "f537cefa",
   "metadata": {},
   "outputs": [
    {
     "name": "stdout",
     "output_type": "stream",
     "text": [
      "2018-04-09 06:37:54  100692722 part-00000-495c48e6-96d6-4650-aa65-3c36a3516ddd.c000.snappy.parquet\n",
      "2018-04-09 06:37:54  100532983 part-00001-495c48e6-96d6-4650-aa65-3c36a3516ddd.c000.snappy.parquet\n",
      "2018-04-09 06:37:54  100519913 part-00002-495c48e6-96d6-4650-aa65-3c36a3516ddd.c000.snappy.parquet\n",
      "2018-04-09 06:37:55   99856078 part-00003-495c48e6-96d6-4650-aa65-3c36a3516ddd.c000.snappy.parquet\n",
      "2018-04-09 06:37:55  100085478 part-00004-495c48e6-96d6-4650-aa65-3c36a3516ddd.c000.snappy.parquet\n",
      "2018-04-09 06:37:57  100470050 part-00005-495c48e6-96d6-4650-aa65-3c36a3516ddd.c000.snappy.parquet\n",
      "2018-04-09 06:37:57  100832865 part-00006-495c48e6-96d6-4650-aa65-3c36a3516ddd.c000.snappy.parquet\n",
      "2018-04-09 06:37:57  101393971 part-00007-495c48e6-96d6-4650-aa65-3c36a3516ddd.c000.snappy.parquet\n",
      "2018-04-09 06:37:58  100623619 part-00008-495c48e6-96d6-4650-aa65-3c36a3516ddd.c000.snappy.parquet\n",
      "2018-04-09 06:37:58  100274810 part-00009-495c48e6-96d6-4650-aa65-3c36a3516ddd.c000.snappy.parquet\n"
     ]
    }
   ],
   "source": [
    "%%bash\n",
    "# Use AWS CLI to list objects in publicly-accessible S3 parquet data set (AWS US East Region)\n",
    "aws s3 ls s3://amazon-reviews-pds/parquet/product_category=Electronics/\n",
    "\n",
    "# WC2H fails , DAAB LAB works "
   ]
  },
  {
   "cell_type": "code",
   "execution_count": 10,
   "id": "1beffcac",
   "metadata": {},
   "outputs": [
    {
     "name": "stdout",
     "output_type": "stream",
     "text": [
      "root\n",
      " |-- marketplace: string (nullable = true)\n",
      " |-- customer_id: string (nullable = true)\n",
      " |-- review_id: string (nullable = true)\n",
      " |-- product_id: string (nullable = true)\n",
      " |-- product_parent: string (nullable = true)\n",
      " |-- product_title: string (nullable = true)\n",
      " |-- star_rating: integer (nullable = true)\n",
      " |-- helpful_votes: integer (nullable = true)\n",
      " |-- total_votes: integer (nullable = true)\n",
      " |-- vine: string (nullable = true)\n",
      " |-- verified_purchase: string (nullable = true)\n",
      " |-- review_headline: string (nullable = true)\n",
      " |-- review_body: string (nullable = true)\n",
      " |-- review_date: date (nullable = true)\n",
      " |-- year: integer (nullable = true)\n",
      "\n"
     ]
    },
    {
     "name": "stderr",
     "output_type": "stream",
     "text": [
      "[Stage 10:>                                                         (0 + 1) / 1]\r"
     ]
    },
    {
     "name": "stdout",
     "output_type": "stream",
     "text": [
      "+-----------+-----------+--------------+----------+--------------+--------------------+-----------+-------------+-----------+----+-----------------+--------------------+--------------------+-----------+----+\n",
      "|marketplace|customer_id|     review_id|product_id|product_parent|       product_title|star_rating|helpful_votes|total_votes|vine|verified_purchase|     review_headline|         review_body|review_date|year|\n",
      "+-----------+-----------+--------------+----------+--------------+--------------------+-----------+-------------+-----------+----+-----------------+--------------------+--------------------+-----------+----+\n",
      "|         US|   51163966|R2RX7KLOQQ5VBG|B00000JBAT|     738692522|Diamond Rio Digit...|          3|            0|          0|   N|                N|Why just 30 minutes?|RIO is really gre...| 1999-06-22|1999|\n",
      "|         US|   30050581| RPHMRNCGZF2HN|B001BRPLZU|     197287809|NG 283220 AC Adap...|          5|            0|          0|   N|                Y|          Five Stars|Great quality for...| 2014-11-17|2014|\n",
      "|         US|   52246039|R3PD79H9CTER8U|B00000JBAT|     738692522|Diamond Rio Digit...|          5|            1|          2|   N|                N|The digital audio...|One of several fi...| 1999-06-30|1999|\n",
      "|         US|   16186332|R3U6UVNH7HGDMS|B009CY43DK|     856142222|HDE Mini Portable...|          5|            0|          0|   N|                Y|          Five Stars|I like it, got so...| 2014-11-17|2014|\n",
      "|         US|   53068431|R3SP31LN235GV3|B00000JBSN|     670078724|JVC FS-7000 Execu...|          3|            5|          5|   N|                N|Design flaws ruin...|I returned mine f...| 1999-07-13|1999|\n",
      "+-----------+-----------+--------------+----------+--------------+--------------------+-----------+-------------+-----------+----+-----------------+--------------------+--------------------+-----------+----+\n",
      "only showing top 5 rows\n",
      "\n"
     ]
    },
    {
     "name": "stderr",
     "output_type": "stream",
     "text": [
      "                                                                                \r"
     ]
    }
   ],
   "source": [
    "# Read a publicly-accessible S3 parquet data set into a Spark dataframe (AWS US East Region)\n",
    "df = spark.read.parquet(\"s3a://amazon-reviews-pds/parquet/product_category=Electronics/\")\n",
    "df.printSchema()\n",
    "df.show(5)\n",
    "\n",
    "# WC2H fails , DAAB LAB works "
   ]
  }
 ],
 "metadata": {
  "kernelspec": {
   "display_name": "conda_python3",
   "language": "python",
   "name": "conda_python3"
  },
  "language_info": {
   "codemirror_mode": {
    "name": "ipython",
    "version": 3
   },
   "file_extension": ".py",
   "mimetype": "text/x-python",
   "name": "python",
   "nbconvert_exporter": "python",
   "pygments_lexer": "ipython3",
   "version": "3.8.12"
  }
 },
 "nbformat": 4,
 "nbformat_minor": 5
}
